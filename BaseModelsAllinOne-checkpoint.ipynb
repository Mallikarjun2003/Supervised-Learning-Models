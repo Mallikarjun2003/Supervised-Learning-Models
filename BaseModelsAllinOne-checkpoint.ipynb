{
 "cells": [
  {
   "cell_type": "code",
   "execution_count": null,
   "id": "957b13e2-4db5-453b-ba9a-b5f1b2c28f81",
   "metadata": {
    "id": "957b13e2-4db5-453b-ba9a-b5f1b2c28f81"
   },
   "outputs": [],
   "source": [
    "import pandas as pd\n",
    "import seaborn as sns\n",
    "\n",
    "titanic_data = sns.load_dataset(\"titanic\")\n",
    "titanic_data.head()"
   ]
  },
  {
   "cell_type": "code",
   "execution_count": null,
   "id": "114535ad-213a-452b-b002-2cae9327582b",
   "metadata": {
    "id": "114535ad-213a-452b-b002-2cae9327582b"
   },
   "outputs": [],
   "source": [
    "\n",
    "!pip install sweetviz\n",
    "import sweetviz as sv\n",
    "\n",
    "titanic_report = sv.analyze(titanic_data)\n",
    "titanic_report.show_html(\"titanic_sweetviz_report.html\")"
   ]
  },
  {
   "cell_type": "code",
   "execution_count": null,
   "id": "0ac714a4-acda-4e2e-9bbe-27f6313f2ffc",
   "metadata": {
    "id": "0ac714a4-acda-4e2e-9bbe-27f6313f2ffc"
   },
   "outputs": [],
   "source": [
    "from IPython.display import IFrame\n",
    "titanic_report.show_html(\"titanic_sweetviz_report.html\")\n",
    "\n",
    "IFrame(src='titanic_sweetviz_report.html', width=1000, height=600)"
   ]
  },
  {
   "cell_type": "code",
   "execution_count": null,
   "id": "cd0967a8-122a-4143-8384-c0610f46e79f",
   "metadata": {
    "id": "cd0967a8-122a-4143-8384-c0610f46e79f"
   },
   "outputs": [],
   "source": [
    "titanic_data.describe()"
   ]
  },
  {
   "cell_type": "code",
   "execution_count": null,
   "id": "0db0f817-cd55-4e9a-883a-597c465a58e7",
   "metadata": {
    "id": "0db0f817-cd55-4e9a-883a-597c465a58e7"
   },
   "outputs": [],
   "source": [
    "titanic_data.isnull().sum()"
   ]
  },
  {
   "cell_type": "code",
   "execution_count": null,
   "id": "aa5c8eeb-87a2-430c-9342-d7725fb89fa3",
   "metadata": {
    "id": "aa5c8eeb-87a2-430c-9342-d7725fb89fa3"
   },
   "outputs": [],
   "source": [
    "import pandas as pd\n",
    "\n",
    "age_mean = titanic_data[\"age\"].mean()\n",
    "\n",
    "titanic_data[\"age\"].fillna(age_mean, inplace=True)\n",
    "\n",
    "titanic_data[\"age\"].isnull().sum()\n"
   ]
  },
  {
   "cell_type": "code",
   "execution_count": null,
   "id": "a95be16a-0684-47e8-aa9e-09e4c4908f28",
   "metadata": {
    "id": "a95be16a-0684-47e8-aa9e-09e4c4908f28"
   },
   "outputs": [],
   "source": [
    "titanic_data.drop([\"deck\"],inplace = True,axis = 1)"
   ]
  },
  {
   "cell_type": "code",
   "execution_count": null,
   "id": "52f80f3e-3c60-4a0d-b495-47d467691f04",
   "metadata": {
    "id": "52f80f3e-3c60-4a0d-b495-47d467691f04"
   },
   "outputs": [],
   "source": [
    "titanic_data.columns"
   ]
  },
  {
   "cell_type": "code",
   "execution_count": null,
   "id": "2bb7cf43-56c8-40a9-8edf-d146df3fb78d",
   "metadata": {
    "id": "2bb7cf43-56c8-40a9-8edf-d146df3fb78d"
   },
   "outputs": [],
   "source": [
    "titanic_data.dropna(inplace = True,axis =1 )"
   ]
  },
  {
   "cell_type": "code",
   "execution_count": null,
   "id": "43551041-92fc-49fe-b905-e1d544da96f6",
   "metadata": {
    "id": "43551041-92fc-49fe-b905-e1d544da96f6"
   },
   "outputs": [],
   "source": [
    "titanic_data.isna().sum()"
   ]
  },
  {
   "cell_type": "code",
   "execution_count": null,
   "id": "5a8d7f4e-c98e-462e-ac19-2832289a90ed",
   "metadata": {
    "id": "5a8d7f4e-c98e-462e-ac19-2832289a90ed"
   },
   "outputs": [],
   "source": [
    "from sklearn.preprocessing import OneHotEncoder\n",
    "onehot_encoder = OneHotEncoder(sparse_output=False)\n",
    "new_data = onehot_encoder.fit_transform(titanic_data[[\"sex\"]])\n",
    "feature_names = onehot_encoder.get_feature_names_out([\"sex\"])\n",
    "new_df = pd.DataFrame(new_data, columns=feature_names)\n",
    "\n",
    "titanic_data = pd.concat([titanic_data.drop(columns=[\"sex\"]), new_df], axis=1)\n",
    "\n",
    "print(titanic_data.head())\n"
   ]
  },
  {
   "cell_type": "code",
   "execution_count": null,
   "id": "25ba295b-644e-4dd2-9560-a78e9cb3e40c",
   "metadata": {
    "id": "25ba295b-644e-4dd2-9560-a78e9cb3e40c"
   },
   "outputs": [],
   "source": [
    "titanic_data.drop([\"alive\", \"class\"], axis=1, inplace=True)\n",
    "\n"
   ]
  },
  {
   "cell_type": "code",
   "execution_count": null,
   "id": "25997f61-0534-4222-b03f-88c4d32c2d74",
   "metadata": {
    "id": "25997f61-0534-4222-b03f-88c4d32c2d74"
   },
   "outputs": [],
   "source": [
    "sns.countplot(x = \"survived\",hue= \"adult_male\",data = titanic_data)"
   ]
  },
  {
   "cell_type": "code",
   "execution_count": null,
   "id": "e887a675-78bb-4a83-ad0d-b960b63eda59",
   "metadata": {
    "id": "e887a675-78bb-4a83-ad0d-b960b63eda59"
   },
   "outputs": [],
   "source": [
    "sns.countplot(x = \"survived\",hue= \"alone\",data = titanic_data)"
   ]
  },
  {
   "cell_type": "code",
   "execution_count": null,
   "id": "cd1ae39b-d350-45a5-837e-db39d24a7c87",
   "metadata": {
    "id": "cd1ae39b-d350-45a5-837e-db39d24a7c87"
   },
   "outputs": [],
   "source": [
    "sns.countplot(x = \"survived\",hue= \"pclass\",data = titanic_data)"
   ]
  },
  {
   "cell_type": "code",
   "execution_count": null,
   "id": "ef1f3ec6-35f0-4e5f-8fc5-e4bba2b8a19a",
   "metadata": {
    "id": "ef1f3ec6-35f0-4e5f-8fc5-e4bba2b8a19a"
   },
   "outputs": [],
   "source": [
    "titanic_data.columns"
   ]
  },
  {
   "cell_type": "markdown",
   "id": "92d78d36-8425-4f3c-8303-35d64fe6638f",
   "metadata": {
    "id": "92d78d36-8425-4f3c-8303-35d64fe6638f"
   },
   "source": [
    "## Training for the Logistic Regression model"
   ]
  },
  {
   "cell_type": "code",
   "execution_count": null,
   "id": "d7f29b1f-5c65-4c09-94a2-86d0c4d94fb9",
   "metadata": {
    "id": "d7f29b1f-5c65-4c09-94a2-86d0c4d94fb9"
   },
   "outputs": [],
   "source": [
    "Logistic_data = titanic_data[[\"survived\",\"pclass\",\"age\",\"sex_male\"]]\n",
    "Logistic_data"
   ]
  },
  {
   "cell_type": "code",
   "execution_count": null,
   "id": "dbb8b9bc-5a21-439b-9569-95e2e70b7876",
   "metadata": {
    "id": "dbb8b9bc-5a21-439b-9569-95e2e70b7876"
   },
   "outputs": [],
   "source": [
    "from sklearn.linear_model import LogisticRegression\n",
    "log_reg_cls = LogisticRegression()\n"
   ]
  },
  {
   "cell_type": "code",
   "execution_count": null,
   "id": "7a7cd37f-bf72-43ac-83f2-53fffc03140e",
   "metadata": {
    "id": "7a7cd37f-bf72-43ac-83f2-53fffc03140e"
   },
   "outputs": [],
   "source": [
    "import matplotlib.pyplot as plt\n",
    "correlation = Logistic_data.corr()\n",
    "\n",
    "\n",
    "plt.figure(figsize=(10, 8))\n",
    "sns.heatmap(correlation, annot=True, cmap='coolwarm', fmt='.2f')\n",
    "plt.title('Correlation Matrix')\n",
    "plt.show()\n"
   ]
  },
  {
   "cell_type": "code",
   "execution_count": null,
   "id": "36fcb8aa-8148-4c57-b665-64622ccc43a4",
   "metadata": {
    "id": "36fcb8aa-8148-4c57-b665-64622ccc43a4"
   },
   "outputs": [],
   "source": [
    "X = Logistic_data[['pclass', 'age', 'sex_male']]\n",
    "y = Logistic_data['survived']\n"
   ]
  },
  {
   "cell_type": "code",
   "execution_count": null,
   "id": "5d20374f-1809-4099-adb6-d602945c9a02",
   "metadata": {
    "id": "5d20374f-1809-4099-adb6-d602945c9a02"
   },
   "outputs": [],
   "source": [
    "from sklearn.model_selection import train_test_split\n",
    "x_train , x_test , y_train , y_test = train_test_split(X,y ,test_size = 0.25,random_state = 40)\n",
    "x_train"
   ]
  },
  {
   "cell_type": "code",
   "execution_count": null,
   "id": "c7c7da06-9fb1-421d-81ed-92fb4f711626",
   "metadata": {
    "id": "c7c7da06-9fb1-421d-81ed-92fb4f711626"
   },
   "outputs": [],
   "source": [
    "log_reg_cls.fit(x_train,y_train)"
   ]
  },
  {
   "cell_type": "code",
   "execution_count": null,
   "id": "fb424306-35a7-4265-ae69-9e3a75a8bed8",
   "metadata": {
    "id": "fb424306-35a7-4265-ae69-9e3a75a8bed8"
   },
   "outputs": [],
   "source": [
    "y_pred = log_reg_cls.predict(x_test)"
   ]
  },
  {
   "cell_type": "code",
   "execution_count": null,
   "id": "4b48110e-2595-4d8f-b1a2-fe588bbac08e",
   "metadata": {
    "id": "4b48110e-2595-4d8f-b1a2-fe588bbac08e"
   },
   "outputs": [],
   "source": [
    "from sklearn.metrics import classification_report\n",
    "\n",
    "print(classification_report(y_pred,y_test))"
   ]
  },
  {
   "cell_type": "code",
   "execution_count": null,
   "id": "f0f950d5-7f7d-4dbd-ba3c-e5cb236196fc",
   "metadata": {
    "id": "f0f950d5-7f7d-4dbd-ba3c-e5cb236196fc"
   },
   "outputs": [],
   "source": [
    "y_train_pred = log_reg_cls.predict(x_test)\n",
    "print(classification_report(y_train_pred,y_test))"
   ]
  },
  {
   "cell_type": "code",
   "execution_count": null,
   "id": "6ab43417-1bd4-4619-8383-47613abd03c5",
   "metadata": {
    "id": "6ab43417-1bd4-4619-8383-47613abd03c5"
   },
   "outputs": [],
   "source": [
    "from sklearn.model_selection import GridSearchCV\n",
    "param_grid = {\n",
    "    'penalty': ['l1', 'l2', 'elasticnet', 'none'],\n",
    "    'C': [0.01, 0.1, 1, 10, 100],\n",
    "}\n",
    "\n",
    "# Perform GridSearchCV to find the best hyperparameters\n",
    "grid_search = GridSearchCV(log_reg_cls, param_grid, cv=5, scoring='accuracy')\n",
    "grid_search.fit(x_train, y_train)\n",
    "\n"
   ]
  },
  {
   "cell_type": "code",
   "execution_count": null,
   "id": "55c79e72-595b-4366-bf90-f3ea49949659",
   "metadata": {
    "id": "55c79e72-595b-4366-bf90-f3ea49949659"
   },
   "outputs": [],
   "source": [
    "\n",
    "# Get the best model\n",
    "best_model = grid_search.best_estimator_\n",
    "\n",
    "# Predict and evaluate the best model\n",
    "y_pred = best_model.predict(x_test)\n",
    "cls_rep = classification_report(y_test, y_pred)"
   ]
  },
  {
   "cell_type": "code",
   "execution_count": null,
   "id": "36aa02b8-0a3c-4ddf-ab9b-bb67b6333fc2",
   "metadata": {
    "id": "36aa02b8-0a3c-4ddf-ab9b-bb67b6333fc2"
   },
   "outputs": [],
   "source": [
    "print(f\"Best Hyperparameters: {grid_search.best_params_}\")\n"
   ]
  },
  {
   "cell_type": "code",
   "execution_count": null,
   "id": "a8784b2f-9bf8-4cde-8014-4e81298b196a",
   "metadata": {
    "id": "a8784b2f-9bf8-4cde-8014-4e81298b196a"
   },
   "outputs": [],
   "source": [
    "print(f\"classification: {cls_rep}\")"
   ]
  },
  {
   "cell_type": "markdown",
   "id": "091e88e3-8e06-4c1b-a15b-67d855a4fb3b",
   "metadata": {
    "id": "091e88e3-8e06-4c1b-a15b-67d855a4fb3b"
   },
   "source": [
    "## Naive Bayes model"
   ]
  },
  {
   "cell_type": "code",
   "execution_count": null,
   "id": "31ebea11-eb12-4b48-97f6-8b244335af37",
   "metadata": {
    "id": "31ebea11-eb12-4b48-97f6-8b244335af37"
   },
   "outputs": [],
   "source": [
    "titanic_data"
   ]
  },
  {
   "cell_type": "code",
   "execution_count": null,
   "id": "2d994183-7b2b-488d-95b0-e639f6fd8440",
   "metadata": {
    "id": "2d994183-7b2b-488d-95b0-e639f6fd8440"
   },
   "outputs": [],
   "source": [
    "naive_data = titanic_data[[\"survived\",\"pclass\",\"age\",\"sex_male\"]]"
   ]
  },
  {
   "cell_type": "code",
   "execution_count": null,
   "id": "ddfa5707-1eb5-4ba9-8847-fe01990f6530",
   "metadata": {
    "id": "ddfa5707-1eb5-4ba9-8847-fe01990f6530"
   },
   "outputs": [],
   "source": [
    "correlation = naive_data.corr()\n",
    "correlation"
   ]
  },
  {
   "cell_type": "code",
   "execution_count": null,
   "id": "622e5d22-01f9-44ba-bb52-2f65ea37c764",
   "metadata": {
    "id": "622e5d22-01f9-44ba-bb52-2f65ea37c764"
   },
   "outputs": [],
   "source": [
    "plt.figure(figsize=(10, 8))\n",
    "sns.heatmap(correlation, annot=True, cmap='coolwarm', fmt='.2f')\n",
    "plt.title('Correlation Matrix')\n",
    "plt.show()"
   ]
  },
  {
   "cell_type": "code",
   "execution_count": null,
   "id": "4d42c857-f803-4191-a57f-95ddbeb18e7f",
   "metadata": {
    "id": "4d42c857-f803-4191-a57f-95ddbeb18e7f"
   },
   "outputs": [],
   "source": [
    "from sklearn.naive_bayes import GaussianNB\n",
    "\n",
    "X = naive_data.drop(\"survived\",axis = 1)\n",
    "y = naive_data[\"survived\"]\n",
    "\n",
    "X_train, X_test, y_train, y_test = train_test_split(X, y, test_size=0.2, random_state=42)\n",
    "\n",
    "# Instantiate the Gaussian Naive Bayes model\n",
    "gnb = GaussianNB()\n",
    "\n",
    "# Train the model\n",
    "gnb.fit(X_train, y_train)\n",
    "\n",
    "# Predict and evaluate the model\n",
    "y_pred = gnb.predict(X_test)\n",
    "\n",
    "cls_rep = classification_report(y_test,y_pred)\n",
    "print(cls_rep)"
   ]
  },
  {
   "cell_type": "markdown",
   "id": "2744484d-61e9-4089-ba28-98fa77c20d7c",
   "metadata": {
    "id": "2744484d-61e9-4089-ba28-98fa77c20d7c"
   },
   "source": [
    "## KNN"
   ]
  },
  {
   "cell_type": "code",
   "execution_count": null,
   "id": "b4323989-ee7b-4ab8-b6c4-9007087e9207",
   "metadata": {
    "id": "b4323989-ee7b-4ab8-b6c4-9007087e9207"
   },
   "outputs": [],
   "source": [
    "knn_data = titanic_data[[\"survived\",\"pclass\",\"age\",\"sex_male\"]]\n"
   ]
  },
  {
   "cell_type": "code",
   "execution_count": null,
   "id": "fe2bf4f4-8841-44d6-80df-6829bfc172c6",
   "metadata": {
    "id": "fe2bf4f4-8841-44d6-80df-6829bfc172c6"
   },
   "outputs": [],
   "source": [
    "from sklearn.neighbors import KNeighborsClassifier\n",
    "X = knn_data.drop(\"survived\",axis = 1)\n",
    "y = knn_data[\"survived\"]\n",
    "\n",
    "X_train, X_test, y_train, y_test = train_test_split(X, y, test_size=0.2, random_state=42)"
   ]
  },
  {
   "cell_type": "code",
   "execution_count": null,
   "id": "24215674-966d-4276-a60d-6d04d7ac73b5",
   "metadata": {
    "id": "24215674-966d-4276-a60d-6d04d7ac73b5"
   },
   "outputs": [],
   "source": [
    "knn = KNeighborsClassifier(n_neighbors=3)\n",
    "\n",
    "# Train the model\n",
    "knn.fit(X_train, y_train)\n",
    "\n",
    "# Predict on the test set\n",
    "y_pred = knn.predict(X_test)"
   ]
  },
  {
   "cell_type": "code",
   "execution_count": null,
   "id": "0220e6f3-639f-4454-aa34-904d44d72b13",
   "metadata": {
    "id": "0220e6f3-639f-4454-aa34-904d44d72b13"
   },
   "outputs": [],
   "source": [
    "cls_rep = classification_report(y_test,y_pred)\n",
    "print(cls_rep)"
   ]
  },
  {
   "cell_type": "code",
   "execution_count": null,
   "id": "0095e248-a9f5-403f-8044-07f8c3afdd8d",
   "metadata": {
    "id": "0095e248-a9f5-403f-8044-07f8c3afdd8d"
   },
   "outputs": [],
   "source": [
    "param_grid = {\n",
    "    'n_neighbors': [ 2, 3 ]\n",
    "}\n",
    "\n",
    "# Perform GridSearchCV to find the best hyperparameters\n",
    "grid_search = GridSearchCV(knn, param_grid, cv=10, scoring='accuracy')\n",
    "grid_search.fit(X_train, y_train)"
   ]
  },
  {
   "cell_type": "code",
   "execution_count": null,
   "id": "d973a2d4-8d5a-40c2-bb35-e4ebb7365553",
   "metadata": {
    "id": "d973a2d4-8d5a-40c2-bb35-e4ebb7365553"
   },
   "outputs": [],
   "source": [
    "best_model = grid_search.best_estimator_\n",
    "best_model\n"
   ]
  },
  {
   "cell_type": "code",
   "execution_count": null,
   "id": "f4782ff9-df6e-418f-94f1-3b937467a62d",
   "metadata": {
    "id": "f4782ff9-df6e-418f-94f1-3b937467a62d"
   },
   "outputs": [],
   "source": [
    "y_pred = best_model.predict(X_test)\n",
    "cls_rep = classification_report(y_test,y_pred)\n",
    "print(cls_rep)\n"
   ]
  },
  {
   "cell_type": "markdown",
   "id": "38695420-532e-42ac-8ae8-878117258e81",
   "metadata": {
    "id": "38695420-532e-42ac-8ae8-878117258e81"
   },
   "source": [
    "## Decision Tree"
   ]
  },
  {
   "cell_type": "code",
   "execution_count": null,
   "id": "911e0759-fd1e-430d-bbeb-e790e263a153",
   "metadata": {
    "id": "911e0759-fd1e-430d-bbeb-e790e263a153"
   },
   "outputs": [],
   "source": [
    "from sklearn.tree import DecisionTreeClassifier\n",
    "\n",
    "decision_data = titanic_data\n",
    "X = decision_data.drop(['survived',\"who\"], axis=1)\n",
    "y = decision_data['survived']\n",
    "\n",
    "X_train, X_test, y_train, y_test = train_test_split(X, y, test_size=0.2, random_state=42)\n"
   ]
  },
  {
   "cell_type": "code",
   "execution_count": null,
   "id": "82688408-71d5-40e3-a867-ac1400f3837d",
   "metadata": {
    "id": "82688408-71d5-40e3-a867-ac1400f3837d"
   },
   "outputs": [],
   "source": [
    "dt_classifier = DecisionTreeClassifier(random_state=42)\n",
    "dt_classifier.fit(X_train, y_train)\n",
    "y_pred = dt_classifier.predict(X_test)\n",
    "print(classification_report(y_test, y_pred))"
   ]
  },
  {
   "cell_type": "code",
   "execution_count": null,
   "id": "c721d021-34d4-4338-8b78-bab3d6e774b2",
   "metadata": {
    "id": "c721d021-34d4-4338-8b78-bab3d6e774b2"
   },
   "outputs": [],
   "source": [
    "param_grid = {\n",
    "    'max_depth': [None,3,5,8,11],\n",
    "    'min_samples_split': [5,8, 10],\n",
    "    'min_samples_leaf': [1, 2, 4]\n",
    "}\n",
    "\n",
    "grid_search = GridSearchCV(estimator=dt_classifier, param_grid=param_grid, cv=8, scoring='accuracy')\n"
   ]
  },
  {
   "cell_type": "code",
   "execution_count": null,
   "id": "f11985a1-b592-47ff-a8df-cf8a2e2e1723",
   "metadata": {
    "id": "f11985a1-b592-47ff-a8df-cf8a2e2e1723"
   },
   "outputs": [],
   "source": [
    "grid_search.fit(X_train, y_train)\n",
    "best_model = grid_search.best_estimator_\n"
   ]
  },
  {
   "cell_type": "code",
   "execution_count": null,
   "id": "23a0529c-1b48-48a0-91fc-2e7e7e77ee44",
   "metadata": {
    "id": "23a0529c-1b48-48a0-91fc-2e7e7e77ee44"
   },
   "outputs": [],
   "source": [
    "# Predict on the test data\n",
    "y_pred = best_model.predict(X_test)\n",
    "\n",
    "# Evaluate the best model\n",
    "print(f\"Best Hyperparameters: {grid_search.best_params_}\")\n",
    "\n"
   ]
  },
  {
   "cell_type": "code",
   "execution_count": null,
   "id": "730937fe-81ac-4cd1-b7c5-0def75134ba4",
   "metadata": {
    "id": "730937fe-81ac-4cd1-b7c5-0def75134ba4"
   },
   "outputs": [],
   "source": [
    "print(classification_report(y_test, y_pred))\n"
   ]
  },
  {
   "cell_type": "code",
   "execution_count": null,
   "id": "abc7d2f0-7789-4cbe-bcde-3fb863f8478b",
   "metadata": {
    "id": "abc7d2f0-7789-4cbe-bcde-3fb863f8478b"
   },
   "outputs": [],
   "source": [
    "import matplotlib.pyplot as plt\n",
    "from sklearn.tree import plot_tree\n",
    "\n",
    "# Plot the decision tree\n",
    "plt.figure(figsize=(15, 10))\n",
    "plot_tree(best_model, filled=True, feature_names=X.columns, class_names=['Not Survived', 'Survived'])\n",
    "plt.title(\"Decision Tree Visualization\")\n",
    "plt.show()\n"
   ]
  },
  {
   "cell_type": "markdown",
   "id": "2a0e3204-297f-496f-a466-d45d7f73835d",
   "metadata": {
    "id": "2a0e3204-297f-496f-a466-d45d7f73835d"
   },
   "source": [
    "## Support Vector Machine"
   ]
  },
  {
   "cell_type": "code",
   "execution_count": null,
   "id": "e345bda9-3bf0-448c-98b9-c44b40fb2179",
   "metadata": {
    "id": "e345bda9-3bf0-448c-98b9-c44b40fb2179"
   },
   "outputs": [],
   "source": [
    "from sklearn.svm import SVC\n",
    "from sklearn.preprocessing import StandardScaler\n",
    "\n",
    "svm_data = titanic_data\n",
    "\n",
    "X = svm_data.drop(['survived',\"who\"], axis=1)\n",
    "y = svm_data['survived']\n",
    "\n",
    "X_train, X_test, y_train, y_test = train_test_split(X, y, test_size=0.2, random_state=42)\n",
    "\n",
    "scaler = StandardScaler()\n",
    "X_train_scaled = scaler.fit_transform(X_train)\n",
    "X_test_scaled = scaler.transform(X_test)\n",
    "svm_classifier = SVC(kernel='poly', random_state=42)\n",
    "svm_classifier.fit(X_train_scaled, y_train)\n",
    "y_pred = svm_classifier.predict(X_test_scaled)\n",
    "print(classification_report(y_test, y_pred))"
   ]
  },
  {
   "cell_type": "code",
   "execution_count": null,
   "id": "04a3b068-a6bd-4301-9eed-027db756b7e8",
   "metadata": {
    "id": "04a3b068-a6bd-4301-9eed-027db756b7e8"
   },
   "outputs": [],
   "source": [
    "param_grid = {\n",
    "    'C': [1, 10, 100],\n",
    "    'kernel': ['poly',\"sigmoid\"],\n",
    "    'degree': [2, 3, 4]\n",
    "}\n",
    "grid_search = GridSearchCV(estimator=svm_classifier, param_grid=param_grid, cv=5, scoring='accuracy')\n",
    "grid_search.fit(X_train_scaled, y_train)\n",
    "\n",
    "print(\"Best Parameters:\", grid_search.best_params_)\n"
   ]
  },
  {
   "cell_type": "markdown",
   "id": "a948a584-fb93-41ff-9bdb-ac08d56d34c1",
   "metadata": {
    "id": "NE81KrXdGB1L"
   },
   "source": [
    "## Random Forest"
   ]
  },
  {
   "cell_type": "code",
   "execution_count": null,
   "id": "Gb9nGyEJ_-kY",
   "metadata": {
    "id": "Gb9nGyEJ_-kY"
   },
   "outputs": [],
   "source": [
    "from sklearn.ensemble import RandomForestClassifier\n",
    "X = decision_data.drop('survived', axis=1)\n",
    "y = decision_data['survived']\n",
    "X_train, X_test, y_train, y_test = train_test_split(X, y, test_size=0.2, random_state=42)\n",
    "\n",
    "rf_classifier = RandomForestClassifier(random_state=42)\n",
    "\n",
    "rf_classifier.fit(X_train, y_train)\n",
    "\n",
    "y_pred = rf_classifier.predict(X_test)\n",
    "print(classification_report(y_test, y_pred))"
   ]
  },
  {
   "cell_type": "code",
   "execution_count": null,
   "id": "roXMpaxdAl8H",
   "metadata": {
    "id": "roXMpaxdAl8H"
   },
   "outputs": [],
   "source": [
    "param_grid = {\n",
    "    'n_estimators': [50, 100, 200],\n",
    "    'max_depth': [None, 5, 10, 20],\n",
    "    'min_samples_split': [2, 5, 10],\n",
    "    'min_samples_leaf': [1, 2, 4],\n",
    "    'max_features': ['sqrt', 'log2']\n",
    "}\n",
    "\n",
    "grid_search = GridSearchCV(estimator=rf_classifier, param_grid=param_grid, cv=7, scoring='accuracy')\n",
    "\n"
   ]
  },
  {
   "cell_type": "code",
   "execution_count": null,
   "id": "fksX7qR7B5W7",
   "metadata": {
    "id": "fksX7qR7B5W7"
   },
   "outputs": [],
   "source": [
    "grid_search.fit(X_train, y_train)\n",
    "\n",
    "print(\"Best Parameters:\", grid_search.best_params_)\n",
    "best_model = grid_search.best_estimator_\n"
   ]
  },
  {
   "cell_type": "code",
   "execution_count": null,
   "id": "ryum3Y3ZB9wK",
   "metadata": {
    "id": "ryum3Y3ZB9wK"
   },
   "outputs": [],
   "source": [
    "best_model.fit(X_train, y_train)\n",
    "\n",
    "y_pred = best_model.predict(X_test)\n",
    "print(classification_report(y_test, y_pred))"
   ]
  },
  {
   "cell_type": "code",
   "execution_count": null,
   "id": "NHI7UG4ECUl1",
   "metadata": {
    "id": "NHI7UG4ECUl1"
   },
   "outputs": [],
   "source": []
  }
 ],
 "metadata": {
  "colab": {
   "provenance": []
  },
  "kernelspec": {
   "display_name": "Python 3 (ipykernel)",
   "language": "python",
   "name": "python3"
  },
  "language_info": {
   "codemirror_mode": {
    "name": "ipython",
    "version": 3
   },
   "file_extension": ".py",
   "mimetype": "text/x-python",
   "name": "python",
   "nbconvert_exporter": "python",
   "pygments_lexer": "ipython3",
   "version": "3.11.7"
  }
 },
 "nbformat": 4,
 "nbformat_minor": 5
}
